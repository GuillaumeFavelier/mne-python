{
 "cells": [
  {
   "cell_type": "markdown",
   "metadata": {},
   "source": [
    "# Ipyvolume Backend Examples"
   ]
  },
  {
   "cell_type": "markdown",
   "metadata": {},
   "source": [
    "## Basic Visualization"
   ]
  },
  {
   "cell_type": "markdown",
   "metadata": {},
   "source": [
    "Initialize a basic visualization session and plot a brain mesh. For this purpose we need to provide subject information, e.g. `subject_id`, `subjects_dir`; which type of freesurfer surface mesh we would like to plot, e.g. 'pialed' or 'inflated'; and which hemisphere to plot or whether to plot both."
   ]
  },
  {
   "cell_type": "code",
   "execution_count": null,
   "metadata": {},
   "outputs": [],
   "source": [
    "import os.path as path\n",
    "\n",
    "import mne\n",
    "from mne.viz import set_3d_backend\n",
    "set_3d_backend(\"mayavi\")\n",
    "\n",
    "from mne.viz import Brain"
   ]
  },
  {
   "cell_type": "code",
   "execution_count": null,
   "metadata": {},
   "outputs": [],
   "source": [
    "data_path = mne.datasets.sample.data_path()\n",
    "\n",
    "subject_id = 'sample'\n",
    "subjects_dir = path.join(data_path, 'subjects')\n",
    "\n",
    "# show both hemispheres on one plot\n",
    "hemi = 'both'\n",
    "surf = 'inflated'\n",
    "\n",
    "# Call the Brain object constructor with\n",
    "# parameters to initialize the visualization session.\n",
    "brain = Brain(subject_id, hemi, surf, size=300, subjects_dir=subjects_dir)\n",
    "brain.show()"
   ]
  },
  {
   "cell_type": "markdown",
   "metadata": {},
   "source": [
    "## Activation Data Visualization"
   ]
  },
  {
   "cell_type": "markdown",
   "metadata": {},
   "source": [
    "In this example it is shown how to add activation data to a plot. By default, color bar and input boxes for `fmin`, `fmid` and `fmax` control parameters of a color map are attached to the plot.\n",
    "\n",
    "A colormap may be sequential or divergent, the latter has defined `center` parameter. The meanings of fmin, fmid and fmax are different for sequential and divergent colormaps. A sequential colormap is characterised by \n",
    "```\n",
    "[fmin, fmid, fmax]\n",
    "```\n",
    "where `fmin` and `fmax` define the edges of the colormap and `fmid` will be the value mapped to the center of the originally chosen colormap. A divergent colormap is characterised by\n",
    "```\n",
    "[center-fmax, center-fmid, center-fmin, center, center+fmin, center+fmid, center+fmax]\n",
    "```\n",
    "i.e., values between center-fmin and center+fmin will not be shown while `center-fmid` will map to the middle of the first half of the original colormap and `center-fmid` to the middle of the second half."
   ]
  },
  {
   "cell_type": "code",
   "execution_count": null,
   "metadata": {},
   "outputs": [],
   "source": [
    "act_data = path.join(data_path, 'MEG/sample/sample_audvis-meg-eeg')\n",
    "\n",
    "# read mne provided example of data\n",
    "stc = mne.read_source_estimate(act_data)\n",
    "\n",
    "# select which hemisphere to plot\n",
    "hemi = 'lh'\n",
    "# select data that corresponds to the 'lh' hemisphere for the selected time moment\n",
    "hemi_data = stc.data[:len(stc.vertices[0]), 10]\n",
    "hemi_vertices = stc.vertices[0]\n",
    "\n",
    "fmin = stc.data.min()\n",
    "fmax = stc.data.max()"
   ]
  },
  {
   "cell_type": "code",
   "execution_count": null,
   "metadata": {},
   "outputs": [],
   "source": [
    "brain_data = Brain(subject_id, hemi, surf, size=300, subjects_dir=subjects_dir)\n",
    "\n",
    "# color bar controls are attached by default, so we need to change parameter value\n",
    "brain_data.add_data(hemi_data, fmin=fmin, hemi=hemi, fmax=fmax, colormap='hot', vertices=hemi_vertices, colorbar=False)\n",
    "brain_data.show()"
   ]
  },
  {
   "cell_type": "markdown",
   "metadata": {},
   "source": [
    "## Show source space\n",
    "The code was taken from the [plot forward tutorial](https://www.martinos.org/mne/stable/auto_tutorials/plot_forward.html?highlight=plot_forward)"
   ]
  },
  {
   "cell_type": "code",
   "execution_count": null,
   "metadata": {},
   "outputs": [],
   "source": [
    "import ipyvolume as ipv\n",
    "import numpy as np\n",
    "from mne.datasets import sample\n",
    "\n",
    "\n",
    "subject = 'sample'\n",
    "data_path = sample.data_path()\n",
    "subjects_dir = data_path + '/subjects'\n",
    "\n",
    "brain = Brain('sample', 'lh', 'inflated', subjects_dir=subjects_dir)\n",
    "surf = brain.geo['lh']\n",
    "\n",
    "src = mne.setup_source_space(subject, spacing='oct6',\n",
    "                             subjects_dir=subjects_dir, add_dist=False)\n",
    "\n",
    "vertidx = np.where(src[0]['inuse'])[0]\n",
    "\n",
    "ipv.scatter(x=surf.x[vertidx], y=surf.y[vertidx], z=surf.z[vertidx], color=(1, 1, 0),\n",
    "           marker='sphere', size=0.5)\n",
    "brain.show()"
   ]
  },
  {
   "cell_type": "markdown",
   "metadata": {},
   "source": [
    "## Display ROI Values\n",
    "\n",
    "This example code was taken from the [PySurfer example](https://pysurfer.github.io/auto_examples/plot_parc_values.html#sphx-glr-auto-examples-plot-parc-values-py)"
   ]
  },
  {
   "cell_type": "code",
   "execution_count": null,
   "metadata": {},
   "outputs": [],
   "source": [
    "import os\n",
    "import numpy as np\n",
    "import nibabel as nib\n",
    "\n",
    "\n",
    "subject_id = \"fsaverage\"\n",
    "hemi = \"lh\"\n",
    "surf = \"inflated\"\n",
    "\n",
    "\"\"\"\n",
    "Bring up the visualization.\n",
    "\"\"\"\n",
    "brain = Brain(subject_id, hemi, surf, background=(0, 0, 0), subjects_dir=subjects_dir)\n",
    "\n",
    "\"\"\"\n",
    "Read in the automatic parcellation of sulci and gyri.\n",
    "\"\"\"\n",
    "aparc_file = os.path.join(subjects_dir,\n",
    "                          subject_id, \"label\",\n",
    "                          hemi + \".aparc.a2009s.annot\")\n",
    "labels, ctab, names = nib.freesurfer.read_annot(aparc_file)\n",
    "\n",
    "\"\"\"\n",
    "Make a random vector of scalar data corresponding to a value for each region in\n",
    "the parcellation.\n",
    "\n",
    "\"\"\"\n",
    "rs = np.random.RandomState(4)\n",
    "roi_data = rs.uniform(.5, .8, size=len(names))\n",
    "\n",
    "\"\"\"\n",
    "Make a vector containing the data point at each vertex.\n",
    "\"\"\"\n",
    "vtx_data = roi_data[labels]\n",
    "\n",
    "\"\"\"\n",
    "Handle vertices that are not defined in the annotation.\n",
    "\"\"\"\n",
    "vtx_data[labels == -1] = -1\n",
    "\n",
    "\"\"\"\n",
    "Display these values on the brain. Use a sequential colormap (assuming\n",
    "these data move from low to high values), and add an alpha channel so the\n",
    "underlying anatomy is visible.\n",
    "\"\"\"\n",
    "brain.add_data(vtx_data, .5, .75, colormap=\"jet\", alpha=.8)\n",
    "brain.show()"
   ]
  }
 ],
 "metadata": {
  "kernelspec": {
   "display_name": "Python 3",
   "language": "python",
   "name": "python3"
  },
  "language_info": {
   "codemirror_mode": {
    "name": "ipython",
    "version": 3
   },
   "file_extension": ".py",
   "mimetype": "text/x-python",
   "name": "python",
   "nbconvert_exporter": "python",
   "pygments_lexer": "ipython3",
   "version": "3.6.8"
  }
 },
 "nbformat": 4,
 "nbformat_minor": 2
}
