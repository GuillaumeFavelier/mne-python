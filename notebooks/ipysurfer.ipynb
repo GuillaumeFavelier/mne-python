{
 "cells": [
  {
   "cell_type": "markdown",
   "metadata": {},
   "source": [
    "# Ipysurfer examples"
   ]
  },
  {
   "cell_type": "markdown",
   "metadata": {},
   "source": [
    "## Basic Visualization"
   ]
  },
  {
   "cell_type": "markdown",
   "metadata": {},
   "source": [
    "Initialize a basic visualization session and plot a brain mesh. For this purpose we need to provide subject information, e.g. `subject_id`, `subjects_dir`; which type of freesurfer surface mesh we would like to plot, e.g. 'pialed' or 'inflated'; and which hemisphere to plot or whether to plot both."
   ]
  },
  {
   "cell_type": "code",
   "execution_count": 1,
   "metadata": {},
   "outputs": [
    {
     "name": "stdout",
     "output_type": "stream",
     "text": [
      "Using ipyvolume 3d backend.\n",
      "\n"
     ]
    }
   ],
   "source": [
    "import os.path as path\n",
    "\n",
    "import mne\n",
    "from mne.viz import set_3d_backend\n",
    "set_3d_backend(\"ipyvolume\")\n",
    "\n",
    "from mne.viz import Brain"
   ]
  },
  {
   "cell_type": "code",
   "execution_count": 2,
   "metadata": {},
   "outputs": [
    {
     "data": {
      "application/vnd.jupyter.widget-view+json": {
       "model_id": "d233e941d68d4911ac353f2224ee5c01",
       "version_major": 2,
       "version_minor": 0
      },
      "text/plain": [
       "VBox(children=(Figure(animation=0.0, camera=PerspectiveCamera(fov=46.0, position=(0.0, 0.08715574274765817, 0.…"
      ]
     },
     "metadata": {},
     "output_type": "display_data"
    }
   ],
   "source": [
    "data_path = mne.datasets.sample.data_path()\n",
    "\n",
    "subject_id = 'sample'\n",
    "subjects_dir = path.join(data_path, 'subjects')\n",
    "\n",
    "# show both hemispheres on one plot\n",
    "hemi = 'both'\n",
    "surf = 'inflated'\n",
    "\n",
    "# Call the Brain object constructor with\n",
    "# parameters to initialize the visualization session.\n",
    "brain = Brain(subject_id, hemi, surf, size=300, subjects_dir=subjects_dir)\n",
    "brain.show()"
   ]
  },
  {
   "cell_type": "code",
   "execution_count": 3,
   "metadata": {
    "scrolled": true
   },
   "outputs": [
    {
     "data": {
      "application/vnd.jupyter.widget-view+json": {
       "model_id": "713623b2ac684f5b92788a73181707e3",
       "version_major": 2,
       "version_minor": 0
      },
      "text/plain": [
       "VBox(children=(Figure(animation=0.0, camera=PerspectiveCamera(fov=46.0, position=(0.0, 0.08715574274765817, 0.…"
      ]
     },
     "metadata": {},
     "output_type": "display_data"
    }
   ],
   "source": [
    "# show both hemispheres on separate plots\n",
    "hemi = 'split'\n",
    "\n",
    "# Call the Brain object constructor with\n",
    "# parameters to initialize the visualization session.\n",
    "brain = Brain(subject_id, hemi, surf, size=300, subjects_dir=subjects_dir)\n",
    "brain.show()"
   ]
  },
  {
   "cell_type": "code",
   "execution_count": 17,
   "metadata": {},
   "outputs": [
    {
     "data": {
      "text/plain": [
       "[[<mne.viz.backends._ipyvolume._Renderer at 0x7fe3ea6e9c88>,\n",
       "  <mne.viz.backends._ipyvolume._Renderer at 0x7fe3ea6e9b70>]]"
      ]
     },
     "execution_count": 17,
     "metadata": {},
     "output_type": "execute_result"
    }
   ],
   "source": [
    "brain._renderers"
   ]
  },
  {
   "cell_type": "code",
   "execution_count": 15,
   "metadata": {},
   "outputs": [
    {
     "data": {
      "application/vnd.jupyter.widget-view+json": {
       "model_id": "713623b2ac684f5b92788a73181707e3",
       "version_major": 2,
       "version_minor": 0
      },
      "text/plain": [
       "VBox(children=(Figure(animation=0.0, camera=PerspectiveCamera(fov=46.0, matrixWorldNeedsUpdate=True, position=…"
      ]
     },
     "metadata": {},
     "output_type": "display_data"
    }
   ],
   "source": [
    "brain._renderers[0][1].show()"
   ]
  },
  {
   "cell_type": "code",
   "execution_count": 7,
   "metadata": {},
   "outputs": [
    {
     "ename": "AttributeError",
     "evalue": "'Mesh' object has no attribute 'show'",
     "output_type": "error",
     "traceback": [
      "\u001b[0;31m---------------------------------------------------------------------------\u001b[0m",
      "\u001b[0;31mAttributeError\u001b[0m                            Traceback (most recent call last)",
      "\u001b[0;32m<ipython-input-7-21a7809be8bc>\u001b[0m in \u001b[0;36m<module>\u001b[0;34m\u001b[0m\n\u001b[0;32m----> 1\u001b[0;31m \u001b[0mbrain\u001b[0m\u001b[0;34m.\u001b[0m\u001b[0m_hemi_meshes\u001b[0m\u001b[0;34m[\u001b[0m\u001b[0;34m'lh_lateral'\u001b[0m\u001b[0;34m]\u001b[0m\u001b[0;34m.\u001b[0m\u001b[0mshow\u001b[0m\u001b[0;34m(\u001b[0m\u001b[0;34m)\u001b[0m\u001b[0;34m\u001b[0m\u001b[0;34m\u001b[0m\u001b[0m\n\u001b[0m",
      "\u001b[0;31mAttributeError\u001b[0m: 'Mesh' object has no attribute 'show'"
     ]
    }
   ],
   "source": [
    "brain._hemi_meshes['lh_lateral']"
   ]
  },
  {
   "cell_type": "markdown",
   "metadata": {},
   "source": [
    "## Activation Data Visualization"
   ]
  },
  {
   "cell_type": "markdown",
   "metadata": {},
   "source": [
    "In this example it is shown how to add activation data to a plot. By default, color bar and input boxes for `fmin`, `fmid` and `fmax` control parameters of a color map are attached to the plot.\n",
    "\n",
    "A colormap may be sequential or divergent, the latter has defined `center` parameter. The meanings of fmin, fmid and fmax are different for sequential and divergent colormaps. A sequential colormap is characterised by \n",
    "```\n",
    "[fmin, fmid, fmax]\n",
    "```\n",
    "where `fmin` and `fmax` define the edges of the colormap and `fmid` will be the value mapped to the center of the originally chosen colormap. A divergent colormap is characterised by\n",
    "```\n",
    "[center-fmax, center-fmid, center-fmin, center, center+fmin, center+fmid, center+fmax]\n",
    "```\n",
    "i.e., values between center-fmin and center+fmin will not be shown while `center-fmid` will map to the middle of the first half of the original colormap and `center-fmid` to the middle of the second half."
   ]
  },
  {
   "cell_type": "code",
   "execution_count": 6,
   "metadata": {},
   "outputs": [],
   "source": [
    "act_data = path.join(data_path, 'MEG/sample/sample_audvis-meg-eeg')\n",
    "\n",
    "# read mne provided example of data\n",
    "stc = mne.read_source_estimate(act_data)\n",
    "\n",
    "# select which hemisphere to plot\n",
    "hemi = 'lh'\n",
    "# select data that corresponds to the 'lh' hemisphere for the selected time moment\n",
    "hemi_data = stc.data[:len(stc.vertices[0]), 10]\n",
    "hemi_vertices = stc.vertices[0]\n",
    "\n",
    "fmin = stc.data.min()\n",
    "fmax = stc.data.max()"
   ]
  },
  {
   "cell_type": "code",
   "execution_count": 7,
   "metadata": {},
   "outputs": [
    {
     "name": "stdout",
     "output_type": "stream",
     "text": [
      "Updating smoothing matrix, be patient..\n",
      "Smoothing matrix creation, step 1\n",
      "Smoothing matrix creation, step 2\n",
      "Smoothing matrix creation, step 3\n",
      "Smoothing matrix creation, step 4\n",
      "Smoothing matrix creation, step 5\n",
      "Smoothing matrix creation, step 6\n",
      "Smoothing matrix creation, step 7\n",
      "Smoothing matrix creation, step 8\n",
      "Smoothing matrix creation, step 9\n",
      "Smoothing matrix creation, step 10\n",
      "Smoothing matrix creation, step 11\n",
      "Smoothing matrix creation, step 12\n",
      "Smoothing matrix creation, step 13\n",
      "Smoothing matrix creation, step 14\n",
      "Smoothing matrix creation, step 15\n",
      "Smoothing matrix creation, step 16\n",
      "Smoothing matrix creation, step 17\n"
     ]
    },
    {
     "data": {
      "application/vnd.jupyter.widget-view+json": {
       "model_id": "9e8a2d48389a43928e6ec47013613a47",
       "version_major": 2,
       "version_minor": 0
      },
      "text/plain": [
       "VBox(children=(Figure(animation=0.0, camera=PerspectiveCamera(fov=46.0, position=(0.0, 0.08715574274765817, 0.…"
      ]
     },
     "metadata": {},
     "output_type": "display_data"
    }
   ],
   "source": [
    "brain_data = Brain(subject_id, hemi, surf, size=300, subjects_dir=subjects_dir)\n",
    "\n",
    "brain_data.add_data(hemi_data, fmin=fmin, hemi=hemi, fmax=fmax, colormap='hot', vertices=hemi_vertices)\n",
    "brain_data.show()"
   ]
  },
  {
   "cell_type": "markdown",
   "metadata": {},
   "source": [
    "Color bar controls can be disabled as in the following example."
   ]
  },
  {
   "cell_type": "code",
   "execution_count": 8,
   "metadata": {},
   "outputs": [
    {
     "name": "stdout",
     "output_type": "stream",
     "text": [
      "Updating smoothing matrix, be patient..\n",
      "Smoothing matrix creation, step 1\n",
      "Smoothing matrix creation, step 2\n",
      "Smoothing matrix creation, step 3\n",
      "Smoothing matrix creation, step 4\n",
      "Smoothing matrix creation, step 5\n",
      "Smoothing matrix creation, step 6\n",
      "Smoothing matrix creation, step 7\n",
      "Smoothing matrix creation, step 8\n",
      "Smoothing matrix creation, step 9\n",
      "Smoothing matrix creation, step 10\n",
      "Smoothing matrix creation, step 11\n",
      "Smoothing matrix creation, step 12\n",
      "Smoothing matrix creation, step 13\n",
      "Smoothing matrix creation, step 14\n",
      "Smoothing matrix creation, step 15\n",
      "Smoothing matrix creation, step 16\n",
      "Smoothing matrix creation, step 17\n"
     ]
    },
    {
     "data": {
      "application/vnd.jupyter.widget-view+json": {
       "model_id": "36778f73c122493d94df811dc07a57aa",
       "version_major": 2,
       "version_minor": 0
      },
      "text/plain": [
       "VBox(children=(Figure(animation=0.0, camera=PerspectiveCamera(fov=46.0, position=(0.0, 0.08715574274765817, 0.…"
      ]
     },
     "metadata": {},
     "output_type": "display_data"
    }
   ],
   "source": [
    "brain_data = Brain(subject_id, hemi, surf, size=300, subjects_dir=subjects_dir)\n",
    "\n",
    "# color bar controls are attached by default, so we need to change parameter value\n",
    "brain_data.add_data(hemi_data, fmin=fmin, hemi=hemi, fmax=fmax, colormap='hot', vertices=hemi_vertices, colorbar=False)\n",
    "brain_data.show()"
   ]
  },
  {
   "cell_type": "markdown",
   "metadata": {},
   "source": [
    "## Activation Data Visualization for Different Time Moments"
   ]
  },
  {
   "cell_type": "markdown",
   "metadata": {},
   "source": [
    "Use `TimeViewer` class to append time viewer widget to the plot."
   ]
  },
  {
   "cell_type": "code",
   "execution_count": 7,
   "metadata": {},
   "outputs": [],
   "source": [
    "from ipysurfer import TimeViewer"
   ]
  },
  {
   "cell_type": "code",
   "execution_count": 8,
   "metadata": {},
   "outputs": [],
   "source": [
    "act_data = path.join(data_path, 'MEG/sample/sample_audvis-meg-eeg')\n",
    "\n",
    "# read mne provided example of data\n",
    "stc = mne.read_source_estimate(act_data)\n",
    "\n",
    "# select which hemisphere to plot\n",
    "hemi = 'rh'\n",
    "\n",
    "# select data that corresponds to 'lh' hemisphere for each moment of time\n",
    "hemi_data = stc.data[:len(stc.vertices[0]), :]\n",
    "hemi_vertices = stc.vertices[0]\n",
    "\n",
    "# we will need to provide list of time points and select initial time\n",
    "hemi_times = stc.times\n",
    "hemi_initial_time = 0.09\n",
    "\n",
    "# time label formating string to be shown\n",
    "hemi_time_label = 'time=%0.2f ms'\n",
    "\n",
    "fmin = 5\n",
    "fmid = 7\n",
    "fmax = 28"
   ]
  },
  {
   "cell_type": "code",
   "execution_count": 9,
   "metadata": {
    "scrolled": false
   },
   "outputs": [
    {
     "data": {
      "application/vnd.jupyter.widget-view+json": {
       "model_id": "47c16e35e16b49608534c9b64fe61889",
       "version_major": 2,
       "version_minor": 0
      },
      "text/plain": [
       "VBox(children=(HTML(value='<p style=\"color: None\"><b>Sample</b></p>'), HBox(children=(Figure(animation=500.0, …"
      ]
     },
     "metadata": {},
     "output_type": "display_data"
    }
   ],
   "source": [
    "brain_data = Brain(subject_id, hemi, surf, size=400, subjects_dir=subjects_dir)\n",
    "brain_data.add_data(hemi_data, hemi=hemi, fmin=fmin, fmid=fmid, fmax=fmax, colormap='hot', initial_time=hemi_initial_time,\n",
    "                    time=hemi_times, vertices=hemi_vertices, colorbar=False, time_label=hemi_time_label)\n",
    "\n",
    "time_viewer = TimeViewer(brain_data)\n",
    "time_viewer.show()"
   ]
  },
  {
   "cell_type": "markdown",
   "metadata": {},
   "source": [
    "We can show color bar and time viewer widgets together"
   ]
  },
  {
   "cell_type": "code",
   "execution_count": 10,
   "metadata": {},
   "outputs": [
    {
     "data": {
      "application/vnd.jupyter.widget-view+json": {
       "model_id": "d3ca3251868e437a88352e22e0beb8c7",
       "version_major": 2,
       "version_minor": 0
      },
      "text/plain": [
       "VBox(children=(HTML(value='<p style=\"color: None\"><b>Sample</b></p>'), HBox(children=(Figure(animation=500.0, …"
      ]
     },
     "metadata": {},
     "output_type": "display_data"
    },
    {
     "ename": "ValueError",
     "evalue": "Incorrect relationship between fmin, fmid, fmax. Given values 5.0, 5.0, 28.0",
     "output_type": "error",
     "traceback": [
      "\u001b[0;31m---------------------------------------------------------------------------\u001b[0m",
      "\u001b[0;31mValueError\u001b[0m                                Traceback (most recent call last)",
      "\u001b[0;32m~/miniconda3/envs/mne/lib/python3.6/site-packages/ipysurfer-0-py3.6.egg/ipysurfer/viz/view.py\u001b[0m in \u001b[0;36mon_update\u001b[0;34m(but_event)\u001b[0m\n\u001b[1;32m    166\u001b[0m                                  \u001b[0;34m' fmin, fmid, fmax. Given values '\u001b[0m \u001b[0;34m+\u001b[0m\u001b[0;34m\u001b[0m\u001b[0;34m\u001b[0m\u001b[0m\n\u001b[1;32m    167\u001b[0m                                  \u001b[0;34m'{0}, {1}, {2}'\u001b[0m\u001b[0;34m\u001b[0m\u001b[0;34m\u001b[0m\u001b[0m\n\u001b[0;32m--> 168\u001b[0;31m                                  .format(val_min, val_mid, val_max))\n\u001b[0m\u001b[1;32m    169\u001b[0m             \u001b[0;32mif\u001b[0m \u001b[0mcenter\u001b[0m \u001b[0;32mis\u001b[0m \u001b[0;32mNone\u001b[0m\u001b[0;34m:\u001b[0m\u001b[0;34m\u001b[0m\u001b[0;34m\u001b[0m\u001b[0m\n\u001b[1;32m    170\u001b[0m                 \u001b[0;31m# 'hot' or another linear color map\u001b[0m\u001b[0;34m\u001b[0m\u001b[0;34m\u001b[0m\u001b[0;34m\u001b[0m\u001b[0m\n",
      "\u001b[0;31mValueError\u001b[0m: Incorrect relationship between fmin, fmid, fmax. Given values 5.0, 5.0, 28.0"
     ]
    }
   ],
   "source": [
    "brain_data = Brain(subject_id, hemi, surf, size=400, subjects_dir=subjects_dir)\n",
    "brain_data.add_data(hemi_data, fmin=fmin, hemi=hemi, fmax=fmax, colormap='hot', initial_time=hemi_initial_time,\n",
    "                    time=hemi_times, vertices=hemi_vertices, colorbar=True, time_label=hemi_time_label)\n",
    "\n",
    "time_viewer = TimeViewer(brain_data)\n",
    "time_viewer.show()"
   ]
  },
  {
   "cell_type": "code",
   "execution_count": null,
   "metadata": {},
   "outputs": [],
   "source": []
  }
 ],
 "metadata": {
  "kernelspec": {
   "display_name": "Python 3",
   "language": "python",
   "name": "python3"
  },
  "language_info": {
   "codemirror_mode": {
    "name": "ipython",
    "version": 3
   },
   "file_extension": ".py",
   "mimetype": "text/x-python",
   "name": "python",
   "nbconvert_exporter": "python",
   "pygments_lexer": "ipython3",
   "version": "3.6.8"
  }
 },
 "nbformat": 4,
 "nbformat_minor": 2
}
