{
 "cells": [
  {
   "cell_type": "code",
   "execution_count": 2,
   "metadata": {},
   "outputs": [
    {
     "name": "stdout",
     "output_type": "stream",
     "text": [
      "Using ipyvolume 3d backend.\n",
      "\n"
     ]
    }
   ],
   "source": [
    "from mne.viz import set_3d_backend\n",
    "set_3d_backend(\"ipyvolume\")\n",
    "\n",
    "from mne.viz.backends.renderer import Brain"
   ]
  },
  {
   "cell_type": "code",
   "execution_count": 3,
   "metadata": {},
   "outputs": [
    {
     "name": "stdout",
     "output_type": "stream",
     "text": [
      "Setting up the source space with the following parameters:\n",
      "\n",
      "SUBJECTS_DIR = /home/okozynet/mne_data/MNE-sample-data/subjects\n",
      "Subject      = sample\n",
      "Surface      = white\n",
      "Octahedron subdivision grade 6\n",
      "\n",
      ">>> 1. Creating the source space...\n",
      "\n",
      "Doing the octahedral vertex picking...\n",
      "Loading /home/okozynet/mne_data/MNE-sample-data/subjects/sample/surf/lh.white...\n",
      "Mapping lh sample -> oct (6) ...\n",
      "    Triangle neighbors and vertex normals...\n",
      "Loading geometry from /home/okozynet/mne_data/MNE-sample-data/subjects/sample/surf/lh.sphere...\n",
      "Setting up the triangulation for the decimated surface...\n",
      "loaded lh.white 4098/155407 selected to source space (oct = 6)\n",
      "\n",
      "Loading /home/okozynet/mne_data/MNE-sample-data/subjects/sample/surf/rh.white...\n",
      "Mapping rh sample -> oct (6) ...\n",
      "    Triangle neighbors and vertex normals...\n",
      "Loading geometry from /home/okozynet/mne_data/MNE-sample-data/subjects/sample/surf/rh.sphere...\n",
      "Setting up the triangulation for the decimated surface...\n",
      "loaded rh.white 4098/156866 selected to source space (oct = 6)\n",
      "\n",
      "You are now one step closer to computing the gain matrix\n"
     ]
    },
    {
     "data": {
      "application/vnd.jupyter.widget-view+json": {
       "model_id": "6ee079536730497785abc39bb7d7faa9",
       "version_major": 2,
       "version_minor": 0
      },
      "text/plain": [
       "VBox(children=(HTML(value='<p style=\"color: None\"><b>Sample</b></p>'), HBox(children=(Figure(animation=0.0, ca…"
      ]
     },
     "metadata": {},
     "output_type": "display_data"
    }
   ],
   "source": [
    "import ipyvolume as ipv\n",
    "import numpy as np\n",
    "import mne\n",
    "from mne.datasets import sample\n",
    "\n",
    "\n",
    "subject = 'sample'\n",
    "data_path = sample.data_path()\n",
    "subjects_dir = data_path + '/subjects'\n",
    "\n",
    "brain = Brain('sample', 'lh', 'inflated', subjects_dir=subjects_dir)\n",
    "surf = brain.geo['lh']\n",
    "\n",
    "src = mne.setup_source_space(subject, spacing='oct6',\n",
    "                             subjects_dir=subjects_dir, add_dist=False)\n",
    "\n",
    "vertidx = np.where(src[0]['inuse'])[0]\n",
    "\n",
    "ipv.scatter(x=surf.x[vertidx], y=surf.y[vertidx], z=surf.z[vertidx], color=(1, 1, 0),\n",
    "           marker='sphere', size=0.5)\n",
    "brain.show()"
   ]
  },
  {
   "cell_type": "markdown",
   "metadata": {},
   "source": [
    "## Display ROI Values"
   ]
  },
  {
   "cell_type": "code",
   "execution_count": 13,
   "metadata": {},
   "outputs": [
    {
     "name": "stdout",
     "output_type": "stream",
     "text": [
      "\n",
      "Display these values on the brain. Use a sequential colormap (assuming\n",
      "these data move from low to high values), and add an alpha channel so the\n",
      "underlying anatomy is visible.\n",
      "\n"
     ]
    },
    {
     "data": {
      "application/vnd.jupyter.widget-view+json": {
       "model_id": "26647d5d55044761a3b4a946d0ff300f",
       "version_major": 2,
       "version_minor": 0
      },
      "text/plain": [
       "VBox(children=(HTML(value='<p style=\"color: None\"><b>Fsaverage</b></p>'), HBox(children=(Figure(animation=0.0,…"
      ]
     },
     "metadata": {},
     "output_type": "display_data"
    }
   ],
   "source": [
    "import os\n",
    "import numpy as np\n",
    "import nibabel as nib\n",
    "\n",
    "\n",
    "subject_id = \"fsaverage\"\n",
    "hemi = \"lh\"\n",
    "surf = \"inflated\"\n",
    "\n",
    "\"\"\"\n",
    "Bring up the visualization.\n",
    "\"\"\"\n",
    "brain = Brain(subject_id, hemi, surf, background=\"white\", subjects_dir=subjects_dir)\n",
    "\n",
    "\"\"\"\n",
    "Read in the automatic parcellation of sulci and gyri.\n",
    "\"\"\"\n",
    "aparc_file = os.path.join(subjects_dir,\n",
    "                          subject_id, \"label\",\n",
    "                          hemi + \".aparc.a2009s.annot\")\n",
    "labels, ctab, names = nib.freesurfer.read_annot(aparc_file)\n",
    "\n",
    "\"\"\"\n",
    "Make a random vector of scalar data corresponding to a value for each region in\n",
    "the parcellation.\n",
    "\n",
    "\"\"\"\n",
    "rs = np.random.RandomState(4)\n",
    "roi_data = rs.uniform(.5, .8, size=len(names))\n",
    "\n",
    "\"\"\"\n",
    "Make a vector containing the data point at each vertex.\n",
    "\"\"\"\n",
    "vtx_data = roi_data[labels]\n",
    "\n",
    "\"\"\"\n",
    "Handle vertices that are not defined in the annotation.\n",
    "\"\"\"\n",
    "vtx_data[labels == -1] = -1\n",
    "\n",
    "\"\"\"\n",
    "Display these values on the brain. Use a sequential colormap (assuming\n",
    "these data move from low to high values), and add an alpha channel so the\n",
    "underlying anatomy is visible.\n",
    "\"\"\"\n",
    "brain.add_data(vtx_data, .5, .75, colormap=\"jet\", alpha=.8)\n",
    "brain.show()"
   ]
  },
  {
   "cell_type": "code",
   "execution_count": 4,
   "metadata": {},
   "outputs": [
    {
     "data": {
      "text/plain": [
       "'/home/okozynet/mne_data/MNE-sample-data/subjects'"
      ]
     },
     "execution_count": 4,
     "metadata": {},
     "output_type": "execute_result"
    }
   ],
   "source": [
    "subjects_dir"
   ]
  },
  {
   "cell_type": "code",
   "execution_count": 5,
   "metadata": {},
   "outputs": [],
   "source": [
    "! export SUBJECTS_DIR='/home/okozynet/mne_data/MNE-sample-data/subjects'"
   ]
  },
  {
   "cell_type": "code",
   "execution_count": 8,
   "metadata": {},
   "outputs": [
    {
     "data": {
      "text/plain": [
       "environ{'CLUTTER_IM_MODULE': 'xim',\n",
       "        'CONDA_SHLVL': '2',\n",
       "        'LS_COLORS': 'rs=0:di=01;34:ln=01;36:mh=00:pi=40;33:so=01;35:do=01;35:bd=40;33;01:cd=40;33;01:or=40;31;01:mi=00:su=37;41:sg=30;43:ca=30;41:tw=30;42:ow=34;42:st=37;44:ex=01;32:*.tar=01;31:*.tgz=01;31:*.arc=01;31:*.arj=01;31:*.taz=01;31:*.lha=01;31:*.lz4=01;31:*.lzh=01;31:*.lzma=01;31:*.tlz=01;31:*.txz=01;31:*.tzo=01;31:*.t7z=01;31:*.zip=01;31:*.z=01;31:*.Z=01;31:*.dz=01;31:*.gz=01;31:*.lrz=01;31:*.lz=01;31:*.lzo=01;31:*.xz=01;31:*.zst=01;31:*.tzst=01;31:*.bz2=01;31:*.bz=01;31:*.tbz=01;31:*.tbz2=01;31:*.tz=01;31:*.deb=01;31:*.rpm=01;31:*.jar=01;31:*.war=01;31:*.ear=01;31:*.sar=01;31:*.rar=01;31:*.alz=01;31:*.ace=01;31:*.zoo=01;31:*.cpio=01;31:*.7z=01;31:*.rz=01;31:*.cab=01;31:*.wim=01;31:*.swm=01;31:*.dwm=01;31:*.esd=01;31:*.jpg=01;35:*.jpeg=01;35:*.mjpg=01;35:*.mjpeg=01;35:*.gif=01;35:*.bmp=01;35:*.pbm=01;35:*.pgm=01;35:*.ppm=01;35:*.tga=01;35:*.xbm=01;35:*.xpm=01;35:*.tif=01;35:*.tiff=01;35:*.png=01;35:*.svg=01;35:*.svgz=01;35:*.mng=01;35:*.pcx=01;35:*.mov=01;35:*.mpg=01;35:*.mpeg=01;35:*.m2v=01;35:*.mkv=01;35:*.webm=01;35:*.ogm=01;35:*.mp4=01;35:*.m4v=01;35:*.mp4v=01;35:*.vob=01;35:*.qt=01;35:*.nuv=01;35:*.wmv=01;35:*.asf=01;35:*.rm=01;35:*.rmvb=01;35:*.flc=01;35:*.avi=01;35:*.fli=01;35:*.flv=01;35:*.gl=01;35:*.dl=01;35:*.xcf=01;35:*.xwd=01;35:*.yuv=01;35:*.cgm=01;35:*.emf=01;35:*.ogv=01;35:*.ogx=01;35:*.aac=00;36:*.au=00;36:*.flac=00;36:*.m4a=00;36:*.mid=00;36:*.midi=00;36:*.mka=00;36:*.mp3=00;36:*.mpc=00;36:*.ogg=00;36:*.ra=00;36:*.wav=00;36:*.oga=00;36:*.opus=00;36:*.spx=00;36:*.xspf=00;36:',\n",
       "        'CONDA_EXE': '/home/okozynet/miniconda3/bin/conda',\n",
       "        'LC_MEASUREMENT': 'fr_FR.UTF-8',\n",
       "        'LESSCLOSE': '/usr/bin/lesspipe %s %s',\n",
       "        'LC_PAPER': 'fr_FR.UTF-8',\n",
       "        'LC_MONETARY': 'fr_FR.UTF-8',\n",
       "        'XDG_MENU_PREFIX': 'gnome-',\n",
       "        'LANG': 'en_US.UTF-8',\n",
       "        'DISPLAY': ':0',\n",
       "        'OLDPWD': '/home/okozynet/projects/mne-python',\n",
       "        'GNOME_SHELL_SESSION_MODE': 'ubuntu',\n",
       "        'COLORTERM': 'truecolor',\n",
       "        'USERNAME': 'okozynet',\n",
       "        'CONDA_PREFIX': '/home/okozynet/miniconda3/envs/mne',\n",
       "        'XDG_VTNR': '2',\n",
       "        'SSH_AUTH_SOCK': '/run/user/1001/keyring/ssh',\n",
       "        '_CE_M': '',\n",
       "        'LC_NAME': 'fr_FR.UTF-8',\n",
       "        'XDG_SESSION_ID': '2',\n",
       "        'USER': 'okozynet',\n",
       "        'CONDA_PREFIX_1': '/home/okozynet/miniconda3',\n",
       "        'DESKTOP_SESSION': 'ubuntu',\n",
       "        'QT4_IM_MODULE': 'xim',\n",
       "        'GNOME_TERMINAL_SCREEN': '/org/gnome/Terminal/screen/059f1331_93b7_4c79_863c_76344a111b08',\n",
       "        'PWD': '/home/okozynet/projects/mne-python/notebooks',\n",
       "        'HOME': '/home/okozynet',\n",
       "        'SSH_AGENT_PID': '2079',\n",
       "        'QT_ACCESSIBILITY': '1',\n",
       "        'XDG_SESSION_TYPE': 'x11',\n",
       "        'XDG_DATA_DIRS': '/usr/share/ubuntu:/usr/local/share:/usr/share:/var/lib/snapd/desktop',\n",
       "        '_CE_CONDA': '',\n",
       "        'XDG_SESSION_DESKTOP': 'ubuntu',\n",
       "        'LC_ADDRESS': 'fr_FR.UTF-8',\n",
       "        'GJS_DEBUG_OUTPUT': 'stderr',\n",
       "        'LC_NUMERIC': 'fr_FR.UTF-8',\n",
       "        'CONDA_PROMPT_MODIFIER': '(mne) ',\n",
       "        'GTK_MODULES': 'gail:atk-bridge',\n",
       "        'WINDOWPATH': '2',\n",
       "        'TERM': 'xterm-color',\n",
       "        'SHELL': '/bin/bash',\n",
       "        'VTE_VERSION': '5401',\n",
       "        'QT_IM_MODULE': 'ibus',\n",
       "        'XMODIFIERS': '@im=ibus',\n",
       "        'IM_CONFIG_PHASE': '2',\n",
       "        'XDG_CURRENT_DESKTOP': 'ubuntu:GNOME',\n",
       "        'GPG_AGENT_INFO': '/run/user/1001/gnupg/S.gpg-agent:0:1',\n",
       "        'GNOME_TERMINAL_SERVICE': ':1.85',\n",
       "        'XDG_SEAT': 'seat0',\n",
       "        'SHLVL': '1',\n",
       "        'LC_TELEPHONE': 'fr_FR.UTF-8',\n",
       "        'GDMSESSION': 'ubuntu',\n",
       "        'GNOME_DESKTOP_SESSION_ID': 'this-is-deprecated',\n",
       "        'LOGNAME': 'okozynet',\n",
       "        'DBUS_SESSION_BUS_ADDRESS': 'unix:path=/run/user/1001/bus',\n",
       "        'XDG_RUNTIME_DIR': '/run/user/1001',\n",
       "        'XAUTHORITY': '/run/user/1001/gdm/Xauthority',\n",
       "        'XDG_CONFIG_DIRS': '/etc/xdg/xdg-ubuntu:/etc/xdg',\n",
       "        'PATH': '/home/okozynet/programs/MATLAB/bin:/home/okozynet/miniconda3/envs/mne/bin:/home/okozynet/miniconda3/condabin:/usr/local/sbin:/usr/local/bin:/usr/sbin:/usr/bin:/sbin:/bin:/usr/games:/usr/local/games:/snap/bin',\n",
       "        'LC_IDENTIFICATION': 'fr_FR.UTF-8',\n",
       "        'CONDA_DEFAULT_ENV': 'mne',\n",
       "        'GJS_DEBUG_TOPICS': 'JS ERROR;JS LOG',\n",
       "        'SESSION_MANAGER': 'local/93JYVT2:@/tmp/.ICE-unix/1952,unix/93JYVT2:/tmp/.ICE-unix/1952',\n",
       "        'LESSOPEN': '| /usr/bin/lesspipe %s',\n",
       "        'GTK_IM_MODULE': 'ibus',\n",
       "        'LC_TIME': 'fr_FR.UTF-8',\n",
       "        '_': '/home/okozynet/miniconda3/envs/mne/bin/jupyter-notebook',\n",
       "        'JPY_PARENT_PID': '13891',\n",
       "        'CLICOLOR': '1',\n",
       "        'PAGER': 'cat',\n",
       "        'GIT_PAGER': 'cat',\n",
       "        'MPLBACKEND': 'module://ipykernel.pylab.backend_inline'}"
      ]
     },
     "execution_count": 8,
     "metadata": {},
     "output_type": "execute_result"
    }
   ],
   "source": [
    "os.environ"
   ]
  },
  {
   "cell_type": "code",
   "execution_count": null,
   "metadata": {},
   "outputs": [],
   "source": []
  }
 ],
 "metadata": {
  "kernelspec": {
   "display_name": "Python 3",
   "language": "python",
   "name": "python3"
  },
  "language_info": {
   "codemirror_mode": {
    "name": "ipython",
    "version": 3
   },
   "file_extension": ".py",
   "mimetype": "text/x-python",
   "name": "python",
   "nbconvert_exporter": "python",
   "pygments_lexer": "ipython3",
   "version": "3.6.8"
  }
 },
 "nbformat": 4,
 "nbformat_minor": 2
}
