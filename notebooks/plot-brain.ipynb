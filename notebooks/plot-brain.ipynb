{
 "cells": [
  {
   "cell_type": "code",
   "execution_count": 1,
   "metadata": {},
   "outputs": [
    {
     "name": "stdout",
     "output_type": "stream",
     "text": [
      "Using ipyvolume 3d backend.\n",
      "\n"
     ]
    }
   ],
   "source": [
    "import mne\n",
    "from mne.viz import set_3d_backend\n",
    "set_3d_backend(\"ipyvolume\")\n",
    "\n",
    "from mne.viz import Brain\n",
    "from mne.datasets import sample"
   ]
  },
  {
   "cell_type": "code",
   "execution_count": 2,
   "metadata": {},
   "outputs": [
    {
     "name": "stdout",
     "output_type": "stream",
     "text": [
      "Setting up the source space with the following parameters:\n",
      "\n",
      "SUBJECTS_DIR = /home/okozynet/mne_data/MNE-sample-data/subjects\n",
      "Subject      = sample\n",
      "Surface      = white\n",
      "Octahedron subdivision grade 6\n",
      "\n",
      ">>> 1. Creating the source space...\n",
      "\n",
      "Doing the octahedral vertex picking...\n",
      "Loading /home/okozynet/mne_data/MNE-sample-data/subjects/sample/surf/lh.white...\n",
      "Mapping lh sample -> oct (6) ...\n",
      "    Triangle neighbors and vertex normals...\n",
      "Loading geometry from /home/okozynet/mne_data/MNE-sample-data/subjects/sample/surf/lh.sphere...\n",
      "Setting up the triangulation for the decimated surface...\n",
      "loaded lh.white 4098/155407 selected to source space (oct = 6)\n",
      "\n",
      "Loading /home/okozynet/mne_data/MNE-sample-data/subjects/sample/surf/rh.white...\n",
      "Mapping rh sample -> oct (6) ...\n",
      "    Triangle neighbors and vertex normals...\n",
      "Loading geometry from /home/okozynet/mne_data/MNE-sample-data/subjects/sample/surf/rh.sphere...\n",
      "Setting up the triangulation for the decimated surface...\n",
      "loaded rh.white 4098/156866 selected to source space (oct = 6)\n",
      "\n",
      "You are now one step closer to computing the gain matrix\n"
     ]
    },
    {
     "data": {
      "application/vnd.jupyter.widget-view+json": {
       "model_id": "d8a570a633c2481da93eed6ca12a00cf",
       "version_major": 2,
       "version_minor": 0
      },
      "text/plain": [
       "VBox(children=(Figure(animation=0.0, camera=PerspectiveCamera(fov=46.0, position=(0.0, 0.08715574274765817, 0.…"
      ]
     },
     "metadata": {},
     "output_type": "display_data"
    }
   ],
   "source": [
    "import ipyvolume as ipv\n",
    "import numpy as np\n",
    "\n",
    "\n",
    "subject = 'sample'\n",
    "data_path = sample.data_path()\n",
    "subjects_dir = data_path + '/subjects'\n",
    "\n",
    "brain = Brain('sample', 'lh', 'inflated', subjects_dir=subjects_dir)\n",
    "surf = brain.geo['lh']\n",
    "\n",
    "src = mne.setup_source_space(subject, spacing='oct6',\n",
    "                             subjects_dir=subjects_dir, add_dist=False)\n",
    "\n",
    "vertidx = np.where(src[0]['inuse'])[0]\n",
    "\n",
    "ipv.scatter(x=surf.x[vertidx], y=surf.y[vertidx], z=surf.z[vertidx], color=(1, 1, 0),\n",
    "           marker='sphere', size=0.5)\n",
    "brain.show()"
   ]
  },
  {
   "cell_type": "markdown",
   "metadata": {},
   "source": [
    "## Display ROI Values"
   ]
  },
  {
   "cell_type": "code",
   "execution_count": 3,
   "metadata": {},
   "outputs": [
    {
     "data": {
      "application/vnd.jupyter.widget-view+json": {
       "model_id": "6af7f7a5141f4f33a8e074735b4e069d",
       "version_major": 2,
       "version_minor": 0
      },
      "text/plain": [
       "VBox(children=(Figure(animation=0.0, camera=PerspectiveCamera(fov=46.0, position=(0.0, 0.08715574274765817, 0.…"
      ]
     },
     "metadata": {},
     "output_type": "display_data"
    }
   ],
   "source": [
    "import os\n",
    "import numpy as np\n",
    "import nibabel as nib\n",
    "\n",
    "\n",
    "subject_id = \"fsaverage\"\n",
    "hemi = \"lh\"\n",
    "surf = \"inflated\"\n",
    "\n",
    "\"\"\"\n",
    "Bring up the visualization.\n",
    "\"\"\"\n",
    "brain = Brain(subject_id, hemi, surf, background=(0, 0, 0), subjects_dir=subjects_dir)\n",
    "\n",
    "\"\"\"\n",
    "Read in the automatic parcellation of sulci and gyri.\n",
    "\"\"\"\n",
    "aparc_file = os.path.join(subjects_dir,\n",
    "                          subject_id, \"label\",\n",
    "                          hemi + \".aparc.a2009s.annot\")\n",
    "labels, ctab, names = nib.freesurfer.read_annot(aparc_file)\n",
    "\n",
    "\"\"\"\n",
    "Make a random vector of scalar data corresponding to a value for each region in\n",
    "the parcellation.\n",
    "\n",
    "\"\"\"\n",
    "rs = np.random.RandomState(4)\n",
    "roi_data = rs.uniform(.5, .8, size=len(names))\n",
    "\n",
    "\"\"\"\n",
    "Make a vector containing the data point at each vertex.\n",
    "\"\"\"\n",
    "vtx_data = roi_data[labels]\n",
    "\n",
    "\"\"\"\n",
    "Handle vertices that are not defined in the annotation.\n",
    "\"\"\"\n",
    "vtx_data[labels == -1] = -1\n",
    "\n",
    "\"\"\"\n",
    "Display these values on the brain. Use a sequential colormap (assuming\n",
    "these data move from low to high values), and add an alpha channel so the\n",
    "underlying anatomy is visible.\n",
    "\"\"\"\n",
    "brain.add_data(vtx_data, .5, .75, colormap=\"jet\", alpha=.8)\n",
    "brain.show()"
   ]
  },
  {
   "cell_type": "code",
   "execution_count": null,
   "metadata": {},
   "outputs": [],
   "source": []
  }
 ],
 "metadata": {
  "kernelspec": {
   "display_name": "Python 3",
   "language": "python",
   "name": "python3"
  },
  "language_info": {
   "codemirror_mode": {
    "name": "ipython",
    "version": 3
   },
   "file_extension": ".py",
   "mimetype": "text/x-python",
   "name": "python",
   "nbconvert_exporter": "python",
   "pygments_lexer": "ipython3",
   "version": "3.6.8"
  }
 },
 "nbformat": 4,
 "nbformat_minor": 2
}
