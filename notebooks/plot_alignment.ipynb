{
 "cells": [
  {
   "cell_type": "code",
   "execution_count": 1,
   "metadata": {},
   "outputs": [
    {
     "name": "stdout",
     "output_type": "stream",
     "text": [
      "Using ipyvolume 3d backend.\n",
      "\n",
      "    Read a total of 3 projection items:\n",
      "        PCA-v1 (1 x 102)  idle\n",
      "        PCA-v2 (1 x 102)  idle\n",
      "        PCA-v3 (1 x 102)  idle\n",
      "Using lh.seghead for head surface.\n",
      "Getting helmet for system 306m\n"
     ]
    },
    {
     "data": {
      "application/vnd.jupyter.widget-view+json": {
       "model_id": "9d49f4b6baed45a49db2ebbcf7b7a4e7",
       "version_major": 2,
       "version_minor": 0
      },
      "text/plain": [
       "VBox(children=(Figure(animation=0.0, camera=PerspectiveCamera(fov=46.0, position=(3.6739403974420595e-17, 0.6,…"
      ]
     },
     "metadata": {},
     "output_type": "display_data"
    }
   ],
   "source": [
    "from mne.viz import set_3d_backend\n",
    "set_3d_backend(\"ipyvolume\")\n",
    "\n",
    "import mne\n",
    "from mne.datasets import sample\n",
    "data_path = sample.data_path()\n",
    "\n",
    "# the raw file containing the channel location + types\n",
    "raw_fname = data_path + '/MEG/sample/sample_audvis_raw.fif'\n",
    "# The paths to Freesurfer reconstructions\n",
    "subjects_dir = data_path + '/subjects'\n",
    "subject = 'sample'\n",
    "# The transformation file obtained by coregistration\n",
    "trans = data_path + '/MEG/sample/sample_audvis_raw-trans.fif'\n",
    "\n",
    "info = mne.io.read_info(raw_fname)\n",
    "# Here we look at the dense head, which isn't used for BEM computations but\n",
    "# is useful for coregistration.\n",
    "t = mne.viz.plot_alignment(info, trans, subject=subject, dig=True,\n",
    "                       meg=['helmet', 'sensors'], subjects_dir=subjects_dir,\n",
    "                       surfaces='head-dense')"
   ]
  },
  {
   "cell_type": "code",
   "execution_count": null,
   "metadata": {},
   "outputs": [],
   "source": []
  }
 ],
 "metadata": {
  "kernelspec": {
   "display_name": "Python (ipysurfer)",
   "language": "python",
   "name": "ipysurfer"
  },
  "language_info": {
   "codemirror_mode": {
    "name": "ipython",
    "version": 3
   },
   "file_extension": ".py",
   "mimetype": "text/x-python",
   "name": "python",
   "nbconvert_exporter": "python",
   "pygments_lexer": "ipython3",
   "version": "3.7.3"
  }
 },
 "nbformat": 4,
 "nbformat_minor": 2
}
